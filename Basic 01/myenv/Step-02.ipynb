{
 "cells": [
  {
   "cell_type": "markdown",
   "id": "8c807a1a",
   "metadata": {},
   "source": [
    "##### Numpy Array \n",
    "\n",
    "Numpy Array VS Python list  \n"
   ]
  },
  {
   "cell_type": "code",
   "execution_count": 1,
   "id": "d182920e",
   "metadata": {},
   "outputs": [],
   "source": [
    "import numpy as np"
   ]
  },
  {
   "cell_type": "code",
   "execution_count": 4,
   "id": "75cab6bb",
   "metadata": {},
   "outputs": [
    {
     "name": "stdout",
     "output_type": "stream",
     "text": [
      "\n",
      " List Operation time :  0.08238077163696289\n"
     ]
    }
   ],
   "source": [
    "import time\n",
    "start = time.time()\n",
    "py_list  = [i*2 for i in range(1000000)]\n",
    "print(\"\\n List Operation time : \", time.time() - start)"
   ]
  },
  {
   "cell_type": "code",
   "execution_count": 3,
   "id": "4c930cc8",
   "metadata": {},
   "outputs": [
    {
     "name": "stdout",
     "output_type": "stream",
     "text": [
      "\n",
      " Numpy operation time :  0.021179676055908203\n"
     ]
    }
   ],
   "source": [
    "start = time.time()\n",
    "np_arry = np.arange(1000000) * 2\n",
    "print(\"\\n Numpy operation time : \", time.time() - start)"
   ]
  },
  {
   "cell_type": "markdown",
   "id": "3db0bfbc",
   "metadata": {},
   "source": [
    "##### Creating Numpy Array "
   ]
  },
  {
   "cell_type": "code",
   "execution_count": null,
   "id": "bc3de917",
   "metadata": {},
   "outputs": [
    {
     "name": "stdout",
     "output_type": "stream",
     "text": [
      "Zeros array : \n",
      " [[0. 0. 0. 0.]\n",
      " [0. 0. 0. 0.]\n",
      " [0. 0. 0. 0.]]\n",
      "Numpy Ones Array : \n",
      " [[1. 1. 1. 1.]\n",
      " [1. 1. 1. 1.]\n",
      " [1. 1. 1. 1.]\n",
      " [1. 1. 1. 1.]]\n",
      "Numpy Constant Value Array :\n",
      " [[5 5 5]\n",
      " [5 5 5]\n",
      " [5 5 5]]\n"
     ]
    }
   ],
   "source": [
    "# Create Numpy Array using the zeros\n",
    "\n",
    "zeros = np.zeros((3,4)) \n",
    "print(\"Zeros array : \\n\",zeros)\n",
    "\n",
    "# Crating numpy one's array \n",
    "ones = np.ones((4,4))\n",
    "print(\"Numpy Ones Array : \\n\", ones)\n",
    "\n",
    "# Creating a numpy array with a constant value\n",
    "\n",
    "const_val = np.full((3,3),5) # creating a contant array with the value 5\n",
    "print(\"Numpy Constant Value Array :\\n\",const_val)\n",
    "\n"
   ]
  },
  {
   "cell_type": "markdown",
   "id": "4f46fb23",
   "metadata": {},
   "source": [
    "##### Randomness "
   ]
  },
  {
   "cell_type": "code",
   "execution_count": 12,
   "id": "af1e0add",
   "metadata": {},
   "outputs": [
    {
     "name": "stdout",
     "output_type": "stream",
     "text": [
      "Random list 3X3:\n",
      " [[0.52767523 0.85905693 0.05599309]\n",
      " [0.75022222 0.14890139 0.45911459]\n",
      " [0.10956317 0.79824128 0.41557302]]\n",
      "Sequence Array:\n",
      " [ 0  2  4  6  8 10]\n"
     ]
    }
   ],
   "source": [
    "# Creating a array with the random number \n",
    "\n",
    "random = np.random.random((3,3)) \n",
    "print(\"Random list 3X3:\\n\",random)\n",
    "\n",
    "# Creating a sequence array \n",
    "\n",
    "seq_arr = np.arange(0,11,2)\n",
    "print(\"Sequence Array:\\n\",seq_arr)"
   ]
  }
 ],
 "metadata": {
  "kernelspec": {
   "display_name": ".venv",
   "language": "python",
   "name": "python3"
  },
  "language_info": {
   "codemirror_mode": {
    "name": "ipython",
    "version": 3
   },
   "file_extension": ".py",
   "mimetype": "text/x-python",
   "name": "python",
   "nbconvert_exporter": "python",
   "pygments_lexer": "ipython3",
   "version": "3.12.2"
  }
 },
 "nbformat": 4,
 "nbformat_minor": 5
}
