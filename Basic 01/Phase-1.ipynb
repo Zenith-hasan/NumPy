{
 "cells": [
  {
   "cell_type": "markdown",
   "id": "03c17f23",
   "metadata": {},
   "source": [
    "##### Numpy array and basics \n"
   ]
  },
  {
   "cell_type": "code",
   "execution_count": 3,
   "id": "23033b4c",
   "metadata": {},
   "outputs": [],
   "source": [
    "import numpy as np"
   ]
  },
  {
   "cell_type": "code",
   "execution_count": 4,
   "id": "b392c3ee",
   "metadata": {},
   "outputs": [
    {
     "name": "stdout",
     "output_type": "stream",
     "text": [
      "1D Array : [2 3 4 5]\n"
     ]
    }
   ],
   "source": [
    "arr_1d = np.array([2,3,4,5])\n",
    "print(\"1D Array :\",arr_1d)"
   ]
  },
  {
   "cell_type": "code",
   "execution_count": 5,
   "id": "e55fb5b4",
   "metadata": {},
   "outputs": [
    {
     "name": "stdout",
     "output_type": "stream",
     "text": [
      "2D Array : [[3 3 3 3]\n",
      " [4 5 4 5]]\n"
     ]
    }
   ],
   "source": [
    "arr_2d = np.array([[3,3,3,3],[4,5,4,5]])\n",
    "print(\"2D Array :\",arr_2d )"
   ]
  },
  {
   "cell_type": "markdown",
   "id": "29694b7d",
   "metadata": {},
   "source": [
    "##### List Vs Numpy Array"
   ]
  },
  {
   "cell_type": "code",
   "execution_count": null,
   "id": "679bbc5d",
   "metadata": {},
   "outputs": [],
   "source": []
  }
 ],
 "metadata": {
  "kernelspec": {
   "display_name": ".venv",
   "language": "python",
   "name": "python3"
  },
  "language_info": {
   "name": "python",
   "version": "3.12.2"
  }
 },
 "nbformat": 4,
 "nbformat_minor": 5
}
