{
 "cells": [
  {
   "cell_type": "markdown",
   "id": "03c17f23",
   "metadata": {},
   "source": [
    "##### Numpy array and basics \n"
   ]
  },
  {
   "cell_type": "code",
   "execution_count": 4,
   "id": "23033b4c",
   "metadata": {},
   "outputs": [],
   "source": [
    "import numpy as np"
   ]
  },
  {
   "cell_type": "code",
   "execution_count": 4,
   "id": "b392c3ee",
   "metadata": {},
   "outputs": [
    {
     "name": "stdout",
     "output_type": "stream",
     "text": [
      "1D Array : [2 3 4 5]\n"
     ]
    }
   ],
   "source": [
    "arr_1d = np.array([2,3,4,5])\n",
    "print(\"1D Array :\",arr_1d)"
   ]
  },
  {
   "cell_type": "code",
   "execution_count": 5,
   "id": "e55fb5b4",
   "metadata": {},
   "outputs": [
    {
     "name": "stdout",
     "output_type": "stream",
     "text": [
      "2D Array : [[3 3 3 3]\n",
      " [4 5 4 5]]\n"
     ]
    }
   ],
   "source": [
    "arr_2d = np.array([[3,3,3,3],[4,5,4,5]])\n",
    "print(\"2D Array :\",arr_2d )"
   ]
  },
  {
   "cell_type": "markdown",
   "id": "29694b7d",
   "metadata": {},
   "source": [
    "##### List Vs Numpy Array"
   ]
  },
  {
   "cell_type": "code",
   "execution_count": 2,
   "id": "679bbc5d",
   "metadata": {},
   "outputs": [
    {
     "name": "stdout",
     "output_type": "stream",
     "text": [
      "Python List Multiplication. [1, 2, 3, 4, 5, 1, 2, 3, 4, 5]\n"
     ]
    }
   ],
   "source": [
    "py_list = [1,2,3,4,5]\n",
    "print(\"Python List Multiplication.\", py_list * 2) # this multiplication will multiply the original list to two . This is not element wise multiplication.\n"
   ]
  },
  {
   "cell_type": "markdown",
   "id": "a5e4dc6c",
   "metadata": {},
   "source": [
    "##### Numpy Array Multiplication\n"
   ]
  },
  {
   "cell_type": "code",
   "execution_count": 7,
   "id": "256e2aad",
   "metadata": {},
   "outputs": [
    {
     "name": "stdout",
     "output_type": "stream",
     "text": [
      "Numpy Array Multiplication:  [10 12 14]\n"
     ]
    }
   ],
   "source": [
    "np_array = np.array([5,6,7])\n",
    "print(\"Numpy Array Multiplication: \", np_array * 2) # this multiplication is element wise multiplication "
   ]
  }
 ],
 "metadata": {
  "kernelspec": {
   "display_name": ".venv",
   "language": "python",
   "name": "python3"
  },
  "language_info": {
   "codemirror_mode": {
    "name": "ipython",
    "version": 3
   },
   "file_extension": ".py",
   "mimetype": "text/x-python",
   "name": "python",
   "nbconvert_exporter": "python",
   "pygments_lexer": "ipython3",
   "version": "3.12.2"
  }
 },
 "nbformat": 4,
 "nbformat_minor": 5
}
