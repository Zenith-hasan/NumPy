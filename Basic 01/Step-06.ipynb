{
 "cells": [
  {
   "cell_type": "markdown",
   "id": "7e208866",
   "metadata": {},
   "source": [
    "##### Vectors\n"
   ]
  },
  {
   "cell_type": "code",
   "execution_count": null,
   "id": "fec16a43",
   "metadata": {},
   "outputs": [],
   "source": [
    "import numpy as np"
   ]
  },
  {
   "cell_type": "code",
   "execution_count": null,
   "id": "2bed1025",
   "metadata": {},
   "outputs": [],
   "source": [
    " # Some basic operation on the Vector\n",
    "\n",
    "vector01 = np.array([2,3,4,5])\n",
    "vector02 = np.array([6,7,8,9])\n",
    "\n",
    "# Vector Addition \n",
    "\n",
    "add_vector = (\"Vector Addition:\", vector01 + vector02)\n",
    "print(add_vector)\n",
    "# Vector Multiplication \n",
    "\n",
    "mul_vector = (\"Vecctor Multiplication:\", vector01 * vector02)\n",
    "print(mul_vector)\n",
    "\n",
    "\n",
    "# Dot Product\n",
    "print(\"\\n Dot Product:\",np.dot(vector01, vector02))\n",
    "\n",
    "# Determining the angle of the vector\n",
    "\n",
    "angle_vec = np.arccos(np.dot(vector01,vector02) / (np.linalg.norm(vector01)* np.linalg.norm(vector02)))\n",
    "print(angle_vec)"
   ]
  },
  {
   "cell_type": "markdown",
   "id": "2e8e481a",
   "metadata": {},
   "source": [
    "##### Vectorize Operation"
   ]
  },
  {
   "cell_type": "code",
   "execution_count": 12,
   "id": "adf3239c",
   "metadata": {},
   "outputs": [
    {
     "name": "stdout",
     "output_type": "stream",
     "text": [
      "['BANGLADESH' 'CHINA' 'PAKISTAN' 'SRI LANKA']\n"
     ]
    }
   ],
   "source": [
    "country = np.array([\"Bangladesh\",\"China\",\"Pakistan\",\"Sri Lanka\"])\n",
    "\n",
    "## Vectorize \n",
    "\n",
    "vectorize_upperCase = np.vectorize(str.upper)\n",
    "print(vectorize_upperCase(country))"
   ]
  },
  {
   "cell_type": "code",
   "execution_count": null,
   "id": "92fe574f",
   "metadata": {},
   "outputs": [],
   "source": [
    "# Data Braodcasting - since we are dealing with the numpy array , so every scaler operation will be applied to every element of the array . So one expression or operation applied to the every element is called braodcasting.\n",
    "\n",
    "#Broadcasting is the method that NumPy uses to perform element-wise operations (like addition, subtraction, multiplication, etc.) between arrays of different shapes without copying data unnecessarily.\n",
    "\n",
    "# Instead of manually reshaping or replicating arrays to match shapes, NumPy \"broadcasts\" the smaller array across the larger one."
   ]
  }
 ],
 "metadata": {
  "kernelspec": {
   "display_name": ".venv",
   "language": "python",
   "name": "python3"
  },
  "language_info": {
   "codemirror_mode": {
    "name": "ipython",
    "version": 3
   },
   "file_extension": ".py",
   "mimetype": "text/x-python",
   "name": "python",
   "nbconvert_exporter": "python",
   "pygments_lexer": "ipython3",
   "version": "3.12.2"
  }
 },
 "nbformat": 4,
 "nbformat_minor": 5
}
