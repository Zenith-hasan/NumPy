{
 "cells": [
  {
   "cell_type": "markdown",
   "id": "bdb46cf8",
   "metadata": {},
   "source": [
    "###### Numpy Array Methos and Operation "
   ]
  },
  {
   "cell_type": "code",
   "execution_count": 2,
   "id": "ca2b0eae",
   "metadata": {},
   "outputs": [],
   "source": [
    "import numpy as np"
   ]
  },
  {
   "cell_type": "code",
   "execution_count": null,
   "id": "4a7638f6",
   "metadata": {},
   "outputs": [],
   "source": [
    "# Array basic operation\n",
    "arr = np.array([1,2,3,4,5,6,7,8,9])\n",
    "print(\"Basic Slicing:\\n\",arr[2:7])\n",
    "print(\"With Step of 2\", arr[1:8:2])\n",
    "print(\"Negative Indexing element got:\",arr[-3])\n",
    "\n",
    "\n",
    "# Experimenting with the 2D array\n",
    "\n",
    "arr_2D = np.array([[2,3,4],\n",
    "\t\t\t\t   [5,6,7],\n",
    "\t\t\t\t   [7,8,9]])\n",
    "print(\"Specific Element: \\n\",arr_2D[2,1]) # gives 8\n",
    "print(\"One Entire Row: \\n\",arr_2D[1]) \n",
    "print(\"Entire Column:\", arr_2D[:,1])"
   ]
  },
  {
   "cell_type": "markdown",
   "id": "81ee6876",
   "metadata": {},
   "source": [
    "###### Sorting an Array "
   ]
  },
  {
   "cell_type": "code",
   "execution_count": null,
   "id": "097220bf",
   "metadata": {},
   "outputs": [],
   "source": [
    "unsorted = np.array([3,4,5,1,5,9,2,6])\n",
    "print(\"Sorted Array:\\n\",np.sort(unsorted))\n",
    "\n",
    "unsorted_2D = np.array([[3,4,5],\n",
    "\t\t\t\t\t[5,7,9],\n",
    "\t\t\t\t\t[1,0,2]])\n",
    "print(\"Sorted 2D array :\\n\",np.sort(unsorted_2D , axis=0)) # sort by coloumn \n",
    "\n",
    "print(\"Sorted 2d array :\\n\" ,np.sort(unsorted_2D,axis=1)) # sort row wise\n"
   ]
  },
  {
   "cell_type": "markdown",
   "id": "b20524b0",
   "metadata": {},
   "source": [
    "##### Filtering \n"
   ]
  },
  {
   "cell_type": "code",
   "execution_count": 20,
   "id": "4321ea3a",
   "metadata": {},
   "outputs": [
    {
     "name": "stdout",
     "output_type": "stream",
     "text": [
      "Even Numbers :  [2 4 6 8]\n"
     ]
    }
   ],
   "source": [
    "#  Performing fiter to an array \n",
    "numbers = np.array([1,2,3,4,5,6,7,8,9])\n",
    "even_num = numbers[numbers % 2 == 0]\n",
    "print(\"Even Numbers : \",even_num)"
   ]
  },
  {
   "cell_type": "markdown",
   "id": "ca6d1ba0",
   "metadata": {},
   "source": [
    "###### Filtering with Mask "
   ]
  },
  {
   "cell_type": "code",
   "execution_count": 22,
   "id": "1c42ad3e",
   "metadata": {},
   "outputs": [
    {
     "name": "stdout",
     "output_type": "stream",
     "text": [
      "Masked Values: [False False False False  True  True  True  True  True]\n",
      "Masked Formated Value :  [5 6 7 8 9]\n"
     ]
    }
   ],
   "source": [
    "# mask is use for preserving the filtered values\n",
    "mask = numbers > 4\n",
    "print(\"Masked Values:\",mask) # this will give the boolean output\n",
    "print(\"Masked Formated Value : \",numbers[mask])"
   ]
  },
  {
   "cell_type": "markdown",
   "id": "5a0b4f95",
   "metadata": {},
   "source": [
    "###### Numpy Indexing Advanced\n"
   ]
  },
  {
   "cell_type": "code",
   "execution_count": 28,
   "id": "94822b6d",
   "metadata": {},
   "outputs": [
    {
     "name": "stdout",
     "output_type": "stream",
     "text": [
      "Indices [2, 3, 4]\n",
      "Num in the array: [6 7 8]\n",
      "Result will be the num greater than 5: [6 7 8 9]\n"
     ]
    }
   ],
   "source": [
    "num_arr = np.array([4,5,6,7,8,9])\n",
    "indices = [2,3,4]\n",
    "print(\"Indices\",indices)\n",
    "print(\"Num in the array:\",num_arr[indices])\n",
    "\n",
    "# np.where()\n",
    "\n",
    "result_where = np.where( num_arr > 5)\n",
    "print(\"Result will be the num greater than 5:\",num_arr[result_where])"
   ]
  },
  {
   "cell_type": "code",
   "execution_count": 34,
   "id": "5de73f79",
   "metadata": {},
   "outputs": [
    {
     "name": "stdout",
     "output_type": "stream",
     "text": [
      "Result is: [ 5  5  7 76  8  5 76 32  5 76  8  5]\n"
     ]
    }
   ],
   "source": [
    "# Creating a condition array using the np.where()\n",
    "\n",
    "main_arr = np.array([2,3,4,5,2,2,4,5,7,4,76,8,5,4,76,4,3,32,5,76,8,5])\n",
    "result_arr = np.where( main_arr > 4)\n",
    "print(\"Result is:\", main_arr[result_arr] )\n"
   ]
  },
  {
   "cell_type": "code",
   "execution_count": null,
   "id": "c4dda0d4",
   "metadata": {},
   "outputs": [],
   "source": []
  }
 ],
 "metadata": {
  "kernelspec": {
   "display_name": ".venv",
   "language": "python",
   "name": "python3"
  },
  "language_info": {
   "codemirror_mode": {
    "name": "ipython",
    "version": 3
   },
   "file_extension": ".py",
   "mimetype": "text/x-python",
   "name": "python",
   "nbconvert_exporter": "python",
   "pygments_lexer": "ipython3",
   "version": "3.12.2"
  }
 },
 "nbformat": 4,
 "nbformat_minor": 5
}
