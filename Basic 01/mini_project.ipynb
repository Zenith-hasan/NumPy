{
 "cells": [
  {
   "cell_type": "markdown",
   "id": "23905fa9",
   "metadata": {},
   "source": [
    "##### Mini Project "
   ]
  },
  {
   "cell_type": "code",
   "execution_count": 22,
   "id": "3de30619",
   "metadata": {},
   "outputs": [],
   "source": [
    "import numpy as np"
   ]
  },
  {
   "cell_type": "code",
   "execution_count": null,
   "id": "1a476ecb",
   "metadata": {},
   "outputs": [],
   "source": [
    "sales_data = np.array([\n",
    "\t[1,15000,18000,20000,24000],\n",
    "\t[2,15000,18000,77000,24000],\n",
    "\t[3,33000,18000,20000,24000],\n",
    "\t[4,12000,99000,22000,30000],\n",
    "\t[5,10000,20000,40000,50000],\n",
    "])\n",
    "\n",
    "print(\"********Restuarnat Sales Analysis******\")\n",
    "# print(\"\\n Sales Data Shape : \",sales_data.shape)\n",
    "\n",
    "# Printing the vlaue of the fist three resturant \n",
    "# print(\"First Three Sales of Resturant:\\n\",sales_data[:3])\n",
    "\n",
    "# Printing without the resturant id \n",
    "# print(\"Resturant Earning monthly : \\n\",sales_data[:,1:])\n",
    "\n",
    "# Printing the total earning of a resturant\n",
    "yearly_Total = np.sum(sales_data[:,1:], axis=1) # this will add the data row wise.\n",
    "# print(yearly_Total) \n",
    "\n",
    "# Minimun sales of any particular Resturant \n",
    "\n",
    "min_sales = np.min(sales_data[:,1:],axis=1)\n",
    "print(min_sales)\n",
    "\n",
    "# Maximum sales of any resturant \n",
    "max_sales = np.max(sales_data[:,1:],axis=1)\n",
    "print(max_sales)\n",
    "\n",
    "# Avarage sales of the resturant \n",
    "\n",
    "avg_sales = np.mean(sales_data[:,1:],axis=1)\n",
    "print(avg_sales)\n",
    "\n",
    "\n",
    "# Cummuliative Sale\n",
    "Cumulitaive_sales = np.cumsum(sales_data[:, 1:],axis=1)\n",
    "print(Cumulitaive_sales)"
   ]
  }
 ],
 "metadata": {
  "kernelspec": {
   "display_name": ".venv",
   "language": "python",
   "name": "python3"
  },
  "language_info": {
   "codemirror_mode": {
    "name": "ipython",
    "version": 3
   },
   "file_extension": ".py",
   "mimetype": "text/x-python",
   "name": "python",
   "nbconvert_exporter": "python",
   "pygments_lexer": "ipython3",
   "version": "3.12.2"
  }
 },
 "nbformat": 4,
 "nbformat_minor": 5
}
