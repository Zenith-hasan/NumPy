{
 "cells": [
  {
   "cell_type": "code",
   "execution_count": 2,
   "id": "ab1eaff6",
   "metadata": {},
   "outputs": [],
   "source": [
    "import numpy as np"
   ]
  },
  {
   "cell_type": "markdown",
   "id": "227e2988",
   "metadata": {},
   "source": [
    "##### Vector, Matrix & Tensor\n"
   ]
  },
  {
   "cell_type": "code",
   "execution_count": null,
   "id": "e9409afa",
   "metadata": {},
   "outputs": [],
   "source": [
    "# Creating a vector \n",
    "vector = np.array([2,3,4])\n",
    "print(\"Vector: \", vector)\n",
    "\n",
    "# Creating a Matrix\n",
    "matrix = np.array([[2,3,4],\n",
    "\t\t\t\t\t[2,3,4]])\n",
    "print(\"Matrix :\\n\",matrix)\n",
    "\n",
    "# Creating a Tensor\n",
    "tensor = np.array([[[1,2,3],[4,5,6],\n",
    "\t\t\t\t\t[2,3,4],[4,5,6]]])\n",
    "print(\"Tensor: \\n\", tensor)"
   ]
  },
  {
   "cell_type": "markdown",
   "id": "22b14f57",
   "metadata": {},
   "source": [
    "#### Discuss on the Array Properties"
   ]
  },
  {
   "cell_type": "code",
   "execution_count": null,
   "id": "42ba4b00",
   "metadata": {},
   "outputs": [],
   "source": [
    "arr = np.array([[2,2,2],\n",
    "\t\t\t\t[3,4,5],\n",
    "\t\t\t\t[4,5,6]])\n",
    "\n",
    "print(\"Shape: \", arr.shape) # gives the rows and coloumn\n",
    "print(\"Dimention: \", arr.ndim) # gives the number of the dimention of a particular array\n",
    "print(\"Size : \", arr.size) # gives the total number of elemets in the array \n",
    "print(\"DartType: \", arr.dtype) #give the data type of the element of the array \n",
    "\n",
    "#? Note : The numpy array is optimed based on the datatype of the element it holds. What is means is that , in numpy array is works optimal when every data type of the elements of the array is same.\n",
    "\n"
   ]
  },
  {
   "cell_type": "markdown",
   "id": "c992eda2",
   "metadata": {},
   "source": [
    "##### Array Reshaping "
   ]
  },
  {
   "cell_type": "code",
   "execution_count": null,
   "id": "c97b27d1",
   "metadata": {},
   "outputs": [],
   "source": [
    "# Creting a array \n",
    "arr = np.arange(12)\n",
    "print(\"Original Array: \", arr)\n",
    "\n",
    "# preforming reshaping on the array \n",
    "\n",
    "reshaped_arr = arr.reshape((3,4))\n",
    "print(\"Reshaped Array: \\n\",reshaped_arr) # reshapeed the array into 3 rows & 4 coloumns\n",
    "\n",
    "# flating an array \n",
    "\n",
    "flaten_arr = reshaped_arr.flatten()\n",
    "print(\"Flatend Array: \\n\",flaten_arr)\n",
    "\n",
    "# revolt array ( returns a view, instead of copy ).If we perform revel on a n*n array it will flaten the array first then , it will just give the array as a view without copying it.\n",
    "\n",
    "revel_arr = reshaped_arr.ravel()\n",
    "print(\"Raveled Array : \\n\",revel_arr)\n",
    "\n",
    "# Array Transpose \n",
    "\n",
    "transposed_arr = reshaped_arr.T\n",
    "print(\"Transposed: \\n\",transposed_arr) "
   ]
  }
 ],
 "metadata": {
  "kernelspec": {
   "display_name": ".venv",
   "language": "python",
   "name": "python3"
  },
  "language_info": {
   "codemirror_mode": {
    "name": "ipython",
    "version": 3
   },
   "file_extension": ".py",
   "mimetype": "text/x-python",
   "name": "python",
   "nbconvert_exporter": "python",
   "pygments_lexer": "ipython3",
   "version": "3.12.2"
  }
 },
 "nbformat": 4,
 "nbformat_minor": 5
}
