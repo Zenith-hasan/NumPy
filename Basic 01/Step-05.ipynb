{
 "cells": [
  {
   "cell_type": "markdown",
   "id": "d1d9d258",
   "metadata": {},
   "source": [
    "###### Adding & Removing Data"
   ]
  },
  {
   "cell_type": "code",
   "execution_count": 1,
   "id": "7f06e880",
   "metadata": {},
   "outputs": [],
   "source": [
    "import numpy as np"
   ]
  },
  {
   "cell_type": "code",
   "execution_count": null,
   "id": "080509f0",
   "metadata": {},
   "outputs": [],
   "source": [
    "# Merging n arrays\n",
    "arr1 = np.array([3,4,5,6])\n",
    "arr2 = np.array([7,8,9,1])\n",
    "\n",
    "combined_arr = np.concatenate((arr1,arr2))\n",
    "print(\"Combined Array:\",combined_arr)\n",
    "\n",
    "# array compatibility  - determining is the both array is same row or same coloumn or not.\n",
    "\n",
    "arr3 = np.array([3,4,5])\n",
    "arr4 = np.array([3,4,5])\n",
    "\n",
    "print(\"Is both array same :\", arr3.shape == arr4.shape) # array compatibility check\n",
    "\n",
    "\n"
   ]
  },
  {
   "cell_type": "markdown",
   "id": "092f6ecd",
   "metadata": {},
   "source": [
    "###### Adding new row and cols"
   ]
  },
  {
   "cell_type": "code",
   "execution_count": null,
   "id": "8b8959a0",
   "metadata": {},
   "outputs": [],
   "source": [
    "arr = np.array([[3,4,5],\n",
    "\t\t\t   [6,7,8],\n",
    "\t\t\t   [1,2,3]])\n",
    "\n",
    "print(\"Original Array:\\n \",arr)\n",
    "\n",
    "# adding a row using vstack method\n",
    "\n",
    "new_row = np.array([[3,3,3]])\n",
    "new_rowArr = np.vstack((arr,new_row))\n",
    "print(\"Row Added Array: \\n\",new_rowArr)\n",
    "\n",
    "# adding a columns using the hstack method\n",
    "\n",
    "new_cols = np.array([[5],[5],[5]])\n",
    "new_colsArr = np.hstack((arr,new_cols))\n",
    "print(\"Cols Added Array:\\n\",new_colsArr)"
   ]
  },
  {
   "cell_type": "code",
   "execution_count": 17,
   "id": "518d72c8",
   "metadata": {},
   "outputs": [
    {
     "name": "stdout",
     "output_type": "stream",
     "text": [
      "New Array :\n",
      " [4 5 6]\n"
     ]
    }
   ],
   "source": [
    "#? Deleting element or row / cols\n",
    "\n",
    "arr = np.array([3,4,5,6])\n",
    "deleted_arr = np.delete(arr,0)\n",
    "print(\"New Array :\\n\", deleted_arr)"
   ]
  }
 ],
 "metadata": {
  "kernelspec": {
   "display_name": ".venv",
   "language": "python",
   "name": "python3"
  },
  "language_info": {
   "codemirror_mode": {
    "name": "ipython",
    "version": 3
   },
   "file_extension": ".py",
   "mimetype": "text/x-python",
   "name": "python",
   "nbconvert_exporter": "python",
   "pygments_lexer": "ipython3",
   "version": "3.12.2"
  }
 },
 "nbformat": 4,
 "nbformat_minor": 5
}
